{
 "cells": [
  {
   "cell_type": "code",
   "execution_count": 1,
   "metadata": {},
   "outputs": [
    {
     "name": "stdout",
     "output_type": "stream",
     "text": [
      "/home/sankar/VSCODE_PROJECTS/Medical-Detection3d-Toolkit\n"
     ]
    }
   ],
   "source": [
    "import os\n",
    "os.chdir('/home/sankar/VSCODE_PROJECTS/Medical-Detection3d-Toolkit')\n",
    "import pandas as pd\n",
    "import SimpleITK as sitk\n",
    "import shutil\n",
    "import numpy as np\n",
    "import json\n",
    "from gen_landmark_mask import gen_single_landmark_mask"
   ]
  },
  {
   "cell_type": "code",
   "execution_count": 2,
   "metadata": {},
   "outputs": [
    {
     "data": {
      "text/plain": [
       "'/home/sankar/VSCODE_PROJECTS/Medical-Detection3d-Toolkit'"
      ]
     },
     "execution_count": 2,
     "metadata": {},
     "output_type": "execute_result"
    }
   ],
   "source": [
    "os.getcwd()"
   ]
  },
  {
   "cell_type": "markdown",
   "metadata": {},
   "source": [
    "Setting up the target and root path"
   ]
  },
  {
   "cell_type": "code",
   "execution_count": 3,
   "metadata": {},
   "outputs": [],
   "source": [
    "root_path = './assets/trial/case2'\n",
    "target_path = './assets/data_set/'"
   ]
  },
  {
   "cell_type": "markdown",
   "metadata": {},
   "source": [
    "# Dataset Structure\n",
    "\n",
    "The dataset is organized in the following folder structure:\n"
   ]
  },
  {
   "cell_type": "code",
   "execution_count": 4,
   "metadata": {},
   "outputs": [],
   "source": [
    "# data_set\n",
    "# ├── patient_id1\n",
    "# │   ├── patient_id1_landmark_mask.nii.gz\n",
    "# │   ├── patient_id1.csv\n",
    "# │   └── patient_id1.nii.gz\n",
    "# ├── patient_id2\n",
    "# │   ├── patient_id2_landmark_mask.nii.gz\n",
    "# │   ├── patient_id2.csv\n",
    "# │   └── patient_id2.nii.gz\n",
    "# ├── patient_id3\n",
    "# ├── patient_id..\n",
    "# ├── patient_idn"
   ]
  },
  {
   "cell_type": "code",
   "execution_count": 5,
   "metadata": {},
   "outputs": [
    {
     "name": "stdout",
     "output_type": "stream",
     "text": [
      "./assets/data_set/S0000000007\n",
      "./assets/data_set/S00000000010\n",
      "./assets/data_set/S0000000004\n",
      "./assets/data_set/S0000000001\n",
      "----Landmark FILE MISSING.----\n",
      "./assets/data_set/S0000000009\n",
      "./assets/data_set/S0000000003\n",
      "./assets/data_set/S0000000008\n",
      "./assets/data_set/S0000000002\n",
      "----VOLUME FILE MISSING.----\n",
      "./assets/data_set/S0000000006\n",
      "./assets/data_set/S0000000005\n"
     ]
    }
   ],
   "source": [
    "landmark_label = {\n",
    "                     'Go': 1,\n",
    "                     'Me': 2,\n",
    "                     'H': 3,\n",
    "                  }\n",
    "pos_upper_bound = 3\n",
    "neg_lower_bound = 6\n",
    "target_image_origin = (0,0,0)\n",
    "\n",
    "for dirpath, dirnames, filenames in os.walk(root_path):\n",
    "    for filename in filenames:\n",
    "      image_dir= os.path.join(target_path, os.path.basename(dirpath))\n",
    "      print(image_dir)\n",
    "      if filename.endswith('.json'):\n",
    "         landmark_json_path = os.path.join(dirpath,filename)\n",
    "\n",
    "         filenames.pop(filenames.index(filename))\n",
    "\n",
    "         if filenames != []:\n",
    "            for file in filenames:\n",
    "               if file.endswith('.nii.gz'):\n",
    "                  image_volume_path = os.path.join(dirpath,'volume.nii.gz')\n",
    "                  image_volume = sitk.ReadImage(image_volume_path)\n",
    "                  origin = image_volume.GetOrigin()\n",
    "\n",
    "                  image_volume.SetOrigin((0,0,0))\n",
    "\n",
    "                  spacing = image_volume.GetSpacing()\n",
    "\n",
    "                  with open(landmark_json_path, 'r') as file:\n",
    "                     landmark_json = json.load(file)\n",
    "                  \n",
    "                  landmark_cos = []\n",
    "                  for control_point in landmark_json['markups'][0]['controlPoints']:\n",
    "                     landmark_co = control_point['position']\n",
    "                     landmark_co = np.round(np.array(landmark_co) - np.array(origin),decimals=1)\n",
    "                     landmark_cos.append({\"name\":control_point['label'], \"x\":landmark_co[0], \"y\":landmark_co[1], \"z\":landmark_co[2]})\n",
    "\n",
    "                  landmark_cos_df = pd.DataFrame(landmark_cos)\n",
    "                  \n",
    "                  landmark_mask = gen_single_landmark_mask(image_volume, landmark_cos_df, landmark_label, spacing, pos_upper_bound, neg_lower_bound)\n",
    "                  has_negative_values = (landmark_cos_df[['x', 'y', 'z']] < 0).any().any()\n",
    "                  if (image_volume.GetOrigin() == target_image_origin and \n",
    "                                landmark_mask.GetOrigin() == target_image_origin and \n",
    "                                has_negative_values!=True):\n",
    "                     os.makedirs(image_dir, exist_ok=True)\n",
    "\n",
    "                     landmark_csv_path = os.path.join(image_dir ,os.path.basename(dirpath)+'.csv')\n",
    "                     image_volume_path = os.path.join(image_dir,os.path.basename(dirpath)+'.nii.gz')\n",
    "                     landmark_path = os.path.join(image_dir, os.path.basename(dirpath)+'_landmark_mask.nii.gz')\n",
    "                     \n",
    "                     landmark_cos_df.to_csv(landmark_csv_path, index=False)\n",
    "                     sitk.WriteImage(image_volume, image_volume_path, useCompression=True)\n",
    "                     sitk.WriteImage(landmark_mask, landmark_path, useCompression=True)\n",
    "                  else:\n",
    "                     print('IMage origin is not 0,0,0 or landmarks have -ve values')\n",
    "\n",
    "               else:\n",
    "                  print(\"----VOLUME FILE MISSING.----\")\n",
    "         else:\n",
    "            print(\"----VOLUME FILE MISSING.----\")\n",
    "      else:\n",
    "         print(\"----Landmark FILE MISSING.----\")"
   ]
  },
  {
   "cell_type": "markdown",
   "metadata": {},
   "source": [
    "Generating train and test .csv file"
   ]
  },
  {
   "cell_type": "code",
   "execution_count": 6,
   "metadata": {},
   "outputs": [
    {
     "name": "stdout",
     "output_type": "stream",
     "text": [
      "./assets/data_set/S0000000007 [] ['S0000000007_landmark_mask.nii.gz', 'S0000000007.csv', 'S0000000007.nii.gz']\n",
      "./assets/data_set/S00000000010 [] ['S00000000010.nii.gz', 'S00000000010.csv', 'S00000000010_landmark_mask.nii.gz']\n",
      "./assets/data_set/S0000000004 [] ['S0000000004.csv', 'S0000000004.nii.gz', 'S0000000004_landmark_mask.nii.gz']\n",
      "./assets/data_set/S0000000009 [] ['S0000000009.csv', 'S0000000009_landmark_mask.nii.gz', 'S0000000009.nii.gz']\n",
      "./assets/data_set/S0000000003 [] ['S0000000003.csv', 'S0000000003.nii.gz', 'S0000000003_landmark_mask.nii.gz']\n",
      "./assets/data_set/S0000000008 [] ['S0000000008.csv', 'S0000000008_landmark_mask.nii.gz', 'S0000000008.nii.gz']\n",
      "./assets/data_set/S0000000006 [] ['S0000000006.csv', 'S0000000006.nii.gz', 'S0000000006_landmark_mask.nii.gz']\n",
      "./assets/data_set/S0000000005 [] ['S0000000005.csv', 'S0000000005.nii.gz', 'S0000000005_landmark_mask.nii.gz']\n"
     ]
    }
   ],
   "source": [
    "path_to_data ={'image_name': [], 'image_path': [], 'landmark_file_path': [], 'landmark_mask_path':[]}\n",
    "\n",
    "for dirpath, dirnames, filenames in os.walk(target_path):\n",
    "    if filenames != []:\n",
    "        print(dirpath, dirnames, filenames)\n",
    "        path_to_data['image_name'].append(os.path.basename(dirpath))\n",
    "        for filename in filenames:\n",
    "            if filename.endswith('.nii.gz'):           \n",
    "                if filename.endswith('mask.nii.gz'):\n",
    "                    path_to_data['landmark_mask_path'].append(os.path.join(dirpath, filename))\n",
    "                else:\n",
    "                    path_to_data['image_path'].append(os.path.join(dirpath, filename))\n",
    "\n",
    "            if filename.endswith('.csv'):\n",
    "                path_to_data['landmark_file_path'].append(os.path.join(dirpath, filename))"
   ]
  },
  {
   "cell_type": "code",
   "execution_count": 8,
   "metadata": {},
   "outputs": [],
   "source": [
    "data_df = pd.DataFrame(path_to_data)"
   ]
  },
  {
   "cell_type": "code",
   "execution_count": 9,
   "metadata": {},
   "outputs": [
    {
     "data": {
      "text/html": [
       "<div>\n",
       "<style scoped>\n",
       "    .dataframe tbody tr th:only-of-type {\n",
       "        vertical-align: middle;\n",
       "    }\n",
       "\n",
       "    .dataframe tbody tr th {\n",
       "        vertical-align: top;\n",
       "    }\n",
       "\n",
       "    .dataframe thead th {\n",
       "        text-align: right;\n",
       "    }\n",
       "</style>\n",
       "<table border=\"1\" class=\"dataframe\">\n",
       "  <thead>\n",
       "    <tr style=\"text-align: right;\">\n",
       "      <th></th>\n",
       "      <th>image_name</th>\n",
       "      <th>image_path</th>\n",
       "      <th>landmark_file_path</th>\n",
       "      <th>landmark_mask_path</th>\n",
       "    </tr>\n",
       "  </thead>\n",
       "  <tbody>\n",
       "    <tr>\n",
       "      <th>0</th>\n",
       "      <td>S0000000007</td>\n",
       "      <td>./assets/data_set/S0000000007/S0000000007.nii.gz</td>\n",
       "      <td>./assets/data_set/S0000000007/S0000000007.csv</td>\n",
       "      <td>./assets/data_set/S0000000007/S0000000007_land...</td>\n",
       "    </tr>\n",
       "    <tr>\n",
       "      <th>1</th>\n",
       "      <td>S00000000010</td>\n",
       "      <td>./assets/data_set/S00000000010/S00000000010.ni...</td>\n",
       "      <td>./assets/data_set/S00000000010/S00000000010.csv</td>\n",
       "      <td>./assets/data_set/S00000000010/S00000000010_la...</td>\n",
       "    </tr>\n",
       "    <tr>\n",
       "      <th>2</th>\n",
       "      <td>S0000000004</td>\n",
       "      <td>./assets/data_set/S0000000004/S0000000004.nii.gz</td>\n",
       "      <td>./assets/data_set/S0000000004/S0000000004.csv</td>\n",
       "      <td>./assets/data_set/S0000000004/S0000000004_land...</td>\n",
       "    </tr>\n",
       "    <tr>\n",
       "      <th>3</th>\n",
       "      <td>S0000000009</td>\n",
       "      <td>./assets/data_set/S0000000009/S0000000009.nii.gz</td>\n",
       "      <td>./assets/data_set/S0000000009/S0000000009.csv</td>\n",
       "      <td>./assets/data_set/S0000000009/S0000000009_land...</td>\n",
       "    </tr>\n",
       "    <tr>\n",
       "      <th>4</th>\n",
       "      <td>S0000000003</td>\n",
       "      <td>./assets/data_set/S0000000003/S0000000003.nii.gz</td>\n",
       "      <td>./assets/data_set/S0000000003/S0000000003.csv</td>\n",
       "      <td>./assets/data_set/S0000000003/S0000000003_land...</td>\n",
       "    </tr>\n",
       "    <tr>\n",
       "      <th>5</th>\n",
       "      <td>S0000000008</td>\n",
       "      <td>./assets/data_set/S0000000008/S0000000008.nii.gz</td>\n",
       "      <td>./assets/data_set/S0000000008/S0000000008.csv</td>\n",
       "      <td>./assets/data_set/S0000000008/S0000000008_land...</td>\n",
       "    </tr>\n",
       "    <tr>\n",
       "      <th>6</th>\n",
       "      <td>S0000000006</td>\n",
       "      <td>./assets/data_set/S0000000006/S0000000006.nii.gz</td>\n",
       "      <td>./assets/data_set/S0000000006/S0000000006.csv</td>\n",
       "      <td>./assets/data_set/S0000000006/S0000000006_land...</td>\n",
       "    </tr>\n",
       "    <tr>\n",
       "      <th>7</th>\n",
       "      <td>S0000000005</td>\n",
       "      <td>./assets/data_set/S0000000005/S0000000005.nii.gz</td>\n",
       "      <td>./assets/data_set/S0000000005/S0000000005.csv</td>\n",
       "      <td>./assets/data_set/S0000000005/S0000000005_land...</td>\n",
       "    </tr>\n",
       "  </tbody>\n",
       "</table>\n",
       "</div>"
      ],
      "text/plain": [
       "     image_name                                         image_path  \\\n",
       "0   S0000000007   ./assets/data_set/S0000000007/S0000000007.nii.gz   \n",
       "1  S00000000010  ./assets/data_set/S00000000010/S00000000010.ni...   \n",
       "2   S0000000004   ./assets/data_set/S0000000004/S0000000004.nii.gz   \n",
       "3   S0000000009   ./assets/data_set/S0000000009/S0000000009.nii.gz   \n",
       "4   S0000000003   ./assets/data_set/S0000000003/S0000000003.nii.gz   \n",
       "5   S0000000008   ./assets/data_set/S0000000008/S0000000008.nii.gz   \n",
       "6   S0000000006   ./assets/data_set/S0000000006/S0000000006.nii.gz   \n",
       "7   S0000000005   ./assets/data_set/S0000000005/S0000000005.nii.gz   \n",
       "\n",
       "                                landmark_file_path  \\\n",
       "0    ./assets/data_set/S0000000007/S0000000007.csv   \n",
       "1  ./assets/data_set/S00000000010/S00000000010.csv   \n",
       "2    ./assets/data_set/S0000000004/S0000000004.csv   \n",
       "3    ./assets/data_set/S0000000009/S0000000009.csv   \n",
       "4    ./assets/data_set/S0000000003/S0000000003.csv   \n",
       "5    ./assets/data_set/S0000000008/S0000000008.csv   \n",
       "6    ./assets/data_set/S0000000006/S0000000006.csv   \n",
       "7    ./assets/data_set/S0000000005/S0000000005.csv   \n",
       "\n",
       "                                  landmark_mask_path  \n",
       "0  ./assets/data_set/S0000000007/S0000000007_land...  \n",
       "1  ./assets/data_set/S00000000010/S00000000010_la...  \n",
       "2  ./assets/data_set/S0000000004/S0000000004_land...  \n",
       "3  ./assets/data_set/S0000000009/S0000000009_land...  \n",
       "4  ./assets/data_set/S0000000003/S0000000003_land...  \n",
       "5  ./assets/data_set/S0000000008/S0000000008_land...  \n",
       "6  ./assets/data_set/S0000000006/S0000000006_land...  \n",
       "7  ./assets/data_set/S0000000005/S0000000005_land...  "
      ]
     },
     "execution_count": 9,
     "metadata": {},
     "output_type": "execute_result"
    }
   ],
   "source": [
    "data_df"
   ]
  },
  {
   "cell_type": "markdown",
   "metadata": {},
   "source": [
    "Split the dataset into train and test"
   ]
  },
  {
   "cell_type": "code",
   "execution_count": 10,
   "metadata": {},
   "outputs": [],
   "source": [
    "test_size = 0.2\n",
    "test_count = int(test_size * len(data_df))\n",
    "\n",
    "# Shuffle the DataFrame\n",
    "df_shuffled = data_df.sample(frac=1, random_state=42).reset_index(drop=True)\n",
    "\n",
    "# Split the DataFrame\n",
    "train_df = df_shuffled.iloc[:-test_count]\n",
    "test_df = df_shuffled.iloc[-test_count:]"
   ]
  },
  {
   "cell_type": "code",
   "execution_count": 11,
   "metadata": {},
   "outputs": [],
   "source": [
    "train_df.to_csv(os.path.join(target_path, 'train.csv'), index=False)\n",
    "test_df.to_csv(os.path.join(target_path, 'test.csv'), index=False)"
   ]
  },
  {
   "cell_type": "code",
   "execution_count": 12,
   "metadata": {},
   "outputs": [
    {
     "name": "stdout",
     "output_type": "stream",
     "text": [
      "Number of CPU cores: 24\n"
     ]
    }
   ],
   "source": [
    "import os\n",
    "\n",
    "num_cores = os.cpu_count()\n",
    "print(f\"Number of CPU cores: {num_cores}\")\n"
   ]
  },
  {
   "cell_type": "code",
   "execution_count": null,
   "metadata": {},
   "outputs": [],
   "source": []
  }
 ],
 "metadata": {
  "kernelspec": {
   "display_name": "det3d",
   "language": "python",
   "name": "python3"
  },
  "language_info": {
   "codemirror_mode": {
    "name": "ipython",
    "version": 3
   },
   "file_extension": ".py",
   "mimetype": "text/x-python",
   "name": "python",
   "nbconvert_exporter": "python",
   "pygments_lexer": "ipython3",
   "version": "3.8.8"
  }
 },
 "nbformat": 4,
 "nbformat_minor": 2
}
