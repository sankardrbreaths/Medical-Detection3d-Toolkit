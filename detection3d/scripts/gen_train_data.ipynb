{
 "cells": [
  {
   "cell_type": "code",
   "execution_count": null,
   "metadata": {},
   "outputs": [],
   "source": [
    "import os\n",
    "os.chdir('/home/sankar/VSCODE_PROJECTS/Medical-Detection3d-Toolkit')\n",
    "import pandas as pd\n",
    "import SimpleITK as sitk\n",
    "import shutil\n",
    "import json\n",
    "from gen_landmark_mask import gen_single_landmark_mask"
   ]
  },
  {
   "cell_type": "code",
   "execution_count": null,
   "metadata": {},
   "outputs": [],
   "source": [
    "os.getcwd()"
   ]
  },
  {
   "cell_type": "markdown",
   "metadata": {},
   "source": [
    "Setting up the target and root path"
   ]
  },
  {
   "cell_type": "code",
   "execution_count": null,
   "metadata": {},
   "outputs": [],
   "source": [
    "root_path = './assets/trial/case2'\n",
    "target_path = './assets/data_set/'"
   ]
  },
  {
   "cell_type": "markdown",
   "metadata": {},
   "source": [
    "# Dataset Structure\n",
    "\n",
    "The dataset is organized in the following folder structure:\n"
   ]
  },
  {
   "cell_type": "code",
   "execution_count": null,
   "metadata": {},
   "outputs": [],
   "source": [
    "# data_set\n",
    "# ├── patient_id1\n",
    "# │   ├── patient_id1_landmark_mask.nii.gz\n",
    "# │   ├── patient_id1.csv\n",
    "# │   └── patient_id1.nii.gz\n",
    "# ├── patient_id2\n",
    "# │   ├── patient_id2_landmark_mask.nii.gz\n",
    "# │   ├── patient_id2.csv\n",
    "# │   └── patient_id2.nii.gz\n",
    "# ├── patient_id3\n",
    "# ├── patient_id..\n",
    "# ├── patient_idn"
   ]
  },
  {
   "cell_type": "code",
   "execution_count": null,
   "metadata": {},
   "outputs": [],
   "source": [
    "for dirpath, dirnames, filenames in os.walk(root_path):\n",
    "    for filename in filenames:\n",
    "      print(filename)\n",
    "      image_dir= os.path.join(target_path, os.path.basename(dirpath))\n",
    "      if filename.endswith('.nii.gz'):\n",
    "         os.makedirs(image_dir, exist_ok=True)\n",
    "         image_volume_path = os.path.join(image_dir,os.path.basename(dirpath)+'.nii.gz')\n",
    "         shutil.copy(os.path.join(dirpath,filename), image_volume_path)\n",
    "\n",
    "      if filename.endswith('.json'):\n",
    "         os.makedirs(image_dir, exist_ok=True)\n",
    "         landmark_json_path = os.path.join(dirpath,filename)\n",
    "         image_volume_path = os.path.join(dirpath,'volume.nii.gz')\n",
    "         image_volume = sitk.ReadImage(image_volume_path)\n",
    "\n",
    "         with open(landmark_json_path, 'r') as file:\n",
    "            landmark_json = json.load(file)\n",
    "         \n",
    "         landmark_cos = []\n",
    "         for control_point in landmark_json['markups'][0]['controlPoints']:\n",
    "            landmark_co = control_point['position']\n",
    "            \n",
    "            landmark_cos.append({\"name\":control_point['label'], \"x\":landmark_co[0], \"y\":landmark_co[1], \"z\":landmark_co[2]})\n",
    "\n",
    "         landmark_cos_df = pd.DataFrame(landmark_cos)\n",
    "         landmark_cos_df.to_csv(os.path.join(image_dir ,os.path.basename(dirpath)+'.csv'), index=False)\n",
    "         print(landmark_cos_df)\n",
    "\n",
    "         spacing = image_volume.GetSpacing()\n",
    "         pos_upper_bound = 3\n",
    "         neg_lower_bound = 6\n",
    "\n",
    "         landmark_label = {\n",
    "            'Go': 1,\n",
    "            'Me': 2,\n",
    "            'H': 3,\n",
    "         }\n",
    "         landmark_mask = gen_single_landmark_mask(image_volume, landmark_cos_df, landmark_label, spacing, pos_upper_bound, neg_lower_bound)\n",
    "\n",
    "         landmark_path = os.path.join(image_dir, os.path.basename(dirpath)+'_landmark_mask.nii.gz')\n",
    "         sitk.WriteImage(landmark_mask, landmark_path, useCompression=True)"
   ]
  },
  {
   "cell_type": "markdown",
   "metadata": {},
   "source": [
    "Generating train and test .csv file"
   ]
  },
  {
   "cell_type": "code",
   "execution_count": null,
   "metadata": {},
   "outputs": [],
   "source": [
    "path_to_data ={'image_name': [], 'image_path': [], 'landmark_file_path': [], 'landmark_mask_path':[]}\n",
    "\n",
    "for dirpath, dirnames, filenames in os.walk(target_path):\n",
    "    if filenames != []:\n",
    "        print(dirpath, dirnames, filenames)\n",
    "        path_to_data['image_name'].append(os.path.basename(dirpath))\n",
    "        for filename in filenames:\n",
    "            if filename.endswith('.nii.gz'):           \n",
    "                if filename.endswith('mask.nii.gz'):\n",
    "                    path_to_data['landmark_mask_path'].append(os.path.join(dirpath, filename))\n",
    "                else:\n",
    "                    path_to_data['image_path'].append(os.path.join(dirpath, filename))\n",
    "\n",
    "            if filename.endswith('.csv'):\n",
    "                path_to_data['landmark_file_path'].append(os.path.join(dirpath, filename))"
   ]
  },
  {
   "cell_type": "code",
   "execution_count": null,
   "metadata": {},
   "outputs": [],
   "source": [
    "data_df = pd.DataFrame(path_to_data)"
   ]
  },
  {
   "cell_type": "code",
   "execution_count": null,
   "metadata": {},
   "outputs": [],
   "source": [
    "data_df"
   ]
  },
  {
   "cell_type": "markdown",
   "metadata": {},
   "source": [
    "Split the dataset into train and test"
   ]
  },
  {
   "cell_type": "code",
   "execution_count": null,
   "metadata": {},
   "outputs": [],
   "source": [
    "test_size = 0.2\n",
    "test_count = int(test_size * len(data_df))\n",
    "\n",
    "# Shuffle the DataFrame\n",
    "df_shuffled = data_df.sample(frac=1, random_state=42).reset_index(drop=True)\n",
    "\n",
    "# Split the DataFrame\n",
    "train_df = df_shuffled.iloc[:-test_count]\n",
    "test_df = df_shuffled.iloc[-test_count:]"
   ]
  },
  {
   "cell_type": "code",
   "execution_count": null,
   "metadata": {},
   "outputs": [],
   "source": [
    "train_df.to_csv(os.path.join(target_path, 'train.csv'), index=False)\n",
    "test_df.to_csv(os.path.join(target_path, 'test.csv'), index=False)"
   ]
  },
  {
   "cell_type": "code",
   "execution_count": 1,
   "metadata": {},
   "outputs": [
    {
     "name": "stdout",
     "output_type": "stream",
     "text": [
      "Number of CPU cores: 24\n"
     ]
    }
   ],
   "source": [
    "import os\n",
    "\n",
    "num_cores = os.cpu_count()\n",
    "print(f\"Number of CPU cores: {num_cores}\")\n"
   ]
  },
  {
   "cell_type": "code",
   "execution_count": null,
   "metadata": {},
   "outputs": [],
   "source": []
  }
 ],
 "metadata": {
  "kernelspec": {
   "display_name": "det3d",
   "language": "python",
   "name": "python3"
  },
  "language_info": {
   "codemirror_mode": {
    "name": "ipython",
    "version": 3
   },
   "file_extension": ".py",
   "mimetype": "text/x-python",
   "name": "python",
   "nbconvert_exporter": "python",
   "pygments_lexer": "ipython3",
   "version": "3.8.8"
  }
 },
 "nbformat": 4,
 "nbformat_minor": 2
}
