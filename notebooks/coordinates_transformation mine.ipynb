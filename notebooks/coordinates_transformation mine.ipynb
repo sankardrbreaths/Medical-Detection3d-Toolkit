{
 "cells": [
  {
   "cell_type": "code",
   "execution_count": 1,
   "metadata": {},
   "outputs": [
    {
     "name": "stdout",
     "output_type": "stream",
     "text": [
      "Image size: (666, 666, 666)\n",
      "Image spacing: (0.3, 0.3, 0.3)\n",
      "Image direction: (1.0, 0.0, 0.0, 0.0, 1.0, 0.0, 0.0, 0.0, 1.0)\n",
      "Image origin: (-99.9, -99.9, -200.0)\n"
     ]
    }
   ],
   "source": [
    "import SimpleITK as sitk\n",
    "\n",
    "# Define the directory containing the DICOM series\n",
    "dicom_directory = \"../assets/trial/CT_Facial_20230421_154425\"\n",
    "\n",
    "# Create an ImageSeriesReader object\n",
    "reader = sitk.ImageSeriesReader()\n",
    "\n",
    "# Get the list of DICOM file names in the directory\n",
    "dicom_filenames = reader.GetGDCMSeriesFileNames(dicom_directory)\n",
    "\n",
    "# Set the file names to the reader\n",
    "reader.SetFileNames(dicom_filenames)\n",
    "\n",
    "# Read the image\n",
    "image = reader.Execute()\n",
    "\n",
    "# Optionally, you can print some information about the image\n",
    "print(f\"Image size: {image.GetSize()}\")\n",
    "print(f\"Image spacing: {image.GetSpacing()}\")\n",
    "print(f\"Image direction: {image.GetDirection()}\")\n",
    "print(f\"Image origin: {image.GetOrigin()}\")\n",
    "\n",
    "# Save the image to a file (optional)\n",
    "# sitk.WriteImage(image, \"output_image.nii\")\n"
   ]
  },
  {
   "cell_type": "code",
   "execution_count": 11,
   "metadata": {},
   "outputs": [],
   "source": [
    "import SimpleITK as sitk\n",
    "\n",
    "image_path = '../assets/data_set/S0000000001/S0000000001.nii.gz'\n",
    "landmark_path = '../assets/data_set/S0000000001/S0000000001_landmark_mask.nii.gz'\n",
    "image_vol = sitk.ReadImage(image_path)\n",
    "landmark_vol = sitk.ReadImage(landmark_path)"
   ]
  },
  {
   "cell_type": "code",
   "execution_count": 12,
   "metadata": {},
   "outputs": [
    {
     "name": "stdout",
     "output_type": "stream",
     "text": [
      "Image size: (666, 666, 666)\n",
      "Image spacing: (0.30000001192092896, 0.30000001192092896, 0.30000001192092896)\n",
      "Image direction: (1.0, 0.0, 0.0, 0.0, 1.0, 0.0, 0.0, 0.0, 1.0)\n",
      "Image origin: (-99.9000015258789, -99.9000015258789, -200.0)\n"
     ]
    }
   ],
   "source": [
    "print(f\"Image size: {image_vol.GetSize()}\")\n",
    "print(f\"Image spacing: {image_vol.GetSpacing()}\")\n",
    "print(f\"Image direction: {image_vol.GetDirection()}\")\n",
    "print(f\"Image origin: {image_vol.GetOrigin()}\")"
   ]
  },
  {
   "cell_type": "code",
   "execution_count": 13,
   "metadata": {},
   "outputs": [
    {
     "name": "stdout",
     "output_type": "stream",
     "text": [
      "Image size: (666, 666, 666)\n",
      "Image spacing: (0.30000001192092896, 0.30000001192092896, 0.30000001192092896)\n",
      "Image direction: (1.0, 0.0, 0.0, 0.0, 1.0, 0.0, 0.0, 0.0, 1.0)\n",
      "Image origin: (-99.9000015258789, -99.9000015258789, -200.0)\n"
     ]
    }
   ],
   "source": [
    "print(f\"Image size: {landmark_vol.GetSize()}\")\n",
    "print(f\"Image spacing: {landmark_vol.GetSpacing()}\")\n",
    "print(f\"Image direction: {landmark_vol.GetDirection()}\")\n",
    "print(f\"Image origin: {landmark_vol.GetOrigin()}\")"
   ]
  },
  {
   "cell_type": "code",
   "execution_count": 14,
   "metadata": {},
   "outputs": [],
   "source": [
    "origin_target = (0,0,0)\n",
    "dir_target = (-1.0, 0.0, 0.0, 0.0, -1.0, 0.0, 0.0, 0.0, 1.0)"
   ]
  },
  {
   "cell_type": "code",
   "execution_count": 15,
   "metadata": {},
   "outputs": [],
   "source": [
    "image_vol.SetOrigin(origin_target)\n",
    "# image_vol.SetDirection(dir_target)"
   ]
  },
  {
   "cell_type": "code",
   "execution_count": 16,
   "metadata": {},
   "outputs": [],
   "source": [
    "landmark_vol.SetOrigin(origin_target)\n",
    "# landmark_vol.SetDirection(dir_target)"
   ]
  },
  {
   "cell_type": "code",
   "execution_count": 17,
   "metadata": {},
   "outputs": [],
   "source": [
    "img_output_path = \"./S0000000001_mod2_origin.nii.gz\"\n",
    "landmark_output_path = \"./S0000000001_mod_landmark_origin.nii.gz\""
   ]
  },
  {
   "cell_type": "code",
   "execution_count": 30,
   "metadata": {},
   "outputs": [
    {
     "name": "stdout",
     "output_type": "stream",
     "text": [
      "[142.35787582 107.2143116   30.90266418]\n",
      "(475, 357, 103)\n"
     ]
    }
   ],
   "source": [
    "import numpy as np\n",
    "\n",
    "transformed_to_origin = np.array([42.4578742980957,7.314310073852539,-169.0973358154297])-np.array([-99.9000015258789, -99.9000015258789, -200.0])\n",
    "print(transformed_to_origin)\n",
    "world_coordinates = np.array(transformed_to_origin) #train.csv data\n",
    "voxel_coordinates = image_vol.TransformPhysicalPointToIndex(world_coordinates)\n",
    "print(voxel_coordinates)"
   ]
  },
  {
   "cell_type": "code",
   "execution_count": 31,
   "metadata": {},
   "outputs": [
    {
     "name": "stdout",
     "output_type": "stream",
     "text": [
      "[101.9241817   55.81902313   1.91734314]\n",
      "(340, 186, 6)\n"
     ]
    }
   ],
   "source": [
    "transformed_to_origin = np.array([2.0241801738739014,-44.08097839355469,-198.08265686035156])-np.array([-99.9000015258789, -99.9000015258789, -200.0])\n",
    "print(transformed_to_origin)\n",
    "world_coordinates = np.array(transformed_to_origin) #train.csv data\n",
    "voxel_coordinates = image_vol.TransformPhysicalPointToIndex(world_coordinates)\n",
    "print(voxel_coordinates)"
   ]
  },
  {
   "cell_type": "code",
   "execution_count": 32,
   "metadata": {},
   "outputs": [
    {
     "name": "stdout",
     "output_type": "stream",
     "text": [
      "[102.85899091  95.45604897   3.17593384]\n",
      "(343, 318, 11)\n"
     ]
    }
   ],
   "source": [
    "transformed_to_origin = np.array([2.958989381790161,-4.443952560424805,-196.82406616210938])-np.array([-99.9000015258789, -99.9000015258789, -200.0])\n",
    "print(transformed_to_origin)\n",
    "world_coordinates = np.array(transformed_to_origin) #train.csv data\n",
    "voxel_coordinates = image_vol.TransformPhysicalPointToIndex(world_coordinates)\n",
    "print(voxel_coordinates)"
   ]
  },
  {
   "cell_type": "code",
   "execution_count": null,
   "metadata": {},
   "outputs": [],
   "source": []
  },
  {
   "cell_type": "code",
   "execution_count": 18,
   "metadata": {},
   "outputs": [
    {
     "data": {
      "text/plain": [
       "'/home/sankar/VSCODE_PROJECTS/Medical-Detection3d-Toolkit/notebooks'"
      ]
     },
     "execution_count": 18,
     "metadata": {},
     "output_type": "execute_result"
    }
   ],
   "source": [
    "import os\n",
    "os.getcwd()"
   ]
  },
  {
   "cell_type": "code",
   "execution_count": 19,
   "metadata": {},
   "outputs": [],
   "source": [
    "sitk.WriteImage(image_vol, img_output_path)"
   ]
  },
  {
   "cell_type": "code",
   "execution_count": 20,
   "metadata": {},
   "outputs": [],
   "source": [
    "sitk.WriteImage(landmark_vol, landmark_output_path)"
   ]
  },
  {
   "cell_type": "code",
   "execution_count": 7,
   "metadata": {},
   "outputs": [],
   "source": [
    "img_origin_original = image_vol.GetOrigin()\n",
    "img_origin_target = (0,0,0)"
   ]
  },
  {
   "cell_type": "code",
   "execution_count": 9,
   "metadata": {},
   "outputs": [],
   "source": [
    "image_vol.SetOrigin(img_origin_target)"
   ]
  },
  {
   "cell_type": "code",
   "execution_count": null,
   "metadata": {},
   "outputs": [],
   "source": [
    "world_coordinates = (2.0241801738739014,-44.08097839355469,-198.08265686035156) #train.csv data\n",
    "voxel_coordinates = image_vol.TransformPhysicalPointToIndex(world_coordinates)\n",
    "print(voxel_coordinates)"
   ]
  },
  {
   "cell_type": "code",
   "execution_count": null,
   "metadata": {},
   "outputs": [],
   "source": [
    "import SimpleITK as sitk\n",
    "\n",
    "# Load the image\n",
    "image = sitk.ReadImage(image_path, sitk.sitkFloat32)\n",
    "\n",
    "# Print the original origin and direction\n",
    "print(\"Original Origin:\", image.GetOrigin())\n",
    "print(\"Original Direction:\", image.GetDirection())\n",
    "\n",
    "# Set new origin and direction\n",
    "image.SetOrigin((0, 0, 0))\n",
    "image.SetDirection((-1.0, 0.0, 0.0, 0.0, -1.0, 0.0, 0.0, 0.0, 1.0))\n",
    "\n",
    "# Specify the path where you want to save the modified image\n",
    "output_path = \"/path/to/save/modified_image.nii.gz\"\n",
    "\n",
    "# Save the modified image\n",
    "sitk.WriteImage(image, output_path)\n",
    "\n",
    "print(\"Modified image saved to:\", output_path)\n"
   ]
  },
  {
   "cell_type": "code",
   "execution_count": null,
   "metadata": {},
   "outputs": [],
   "source": []
  },
  {
   "cell_type": "code",
   "execution_count": 4,
   "metadata": {},
   "outputs": [
    {
     "name": "stdout",
     "output_type": "stream",
     "text": [
      "(340, 186, 6)\n"
     ]
    }
   ],
   "source": [
    "world_coordinates = (2.0241801738739014,-44.08097839355469,-198.08265686035156) #train.csv data\n",
    "voxel_coordinates = image_vol.TransformPhysicalPointToIndex(world_coordinates)\n",
    "print(voxel_coordinates)"
   ]
  },
  {
   "cell_type": "code",
   "execution_count": null,
   "metadata": {},
   "outputs": [],
   "source": []
  },
  {
   "cell_type": "code",
   "execution_count": null,
   "metadata": {},
   "outputs": [],
   "source": []
  },
  {
   "cell_type": "code",
   "execution_count": 3,
   "metadata": {},
   "outputs": [],
   "source": [
    "# image_vol.SetOrigin((99.9000015258789, 99.9000015258789, -200.0))\n",
    "# image_vol.SetDirection((-1., 0, 0, 0, -1., 0, 0, 0, 1.))\n",
    "# image_vol.SetSpacing((1., 1., 1.))"
   ]
  },
  {
   "cell_type": "markdown",
   "metadata": {},
   "source": [
    "Converting Landmark LPS Coordinate to Voxel Coordinate"
   ]
  },
  {
   "cell_type": "code",
   "execution_count": 4,
   "metadata": {},
   "outputs": [
    {
     "name": "stdout",
     "output_type": "stream",
     "text": [
      "   label    L          P           S\n",
      "0     C3  0.0  18.242038 -183.269615\n",
      "1    RGn  0.0 -38.942067 -185.967954\n",
      "2  Hyoid  0.0  -2.652714 -196.813048\n"
     ]
    }
   ],
   "source": [
    "import csv\n",
    "import pandas as pd\n",
    "\n",
    "# Define the path to your .fcv file\n",
    "fcv_file_path = '../assets/trial/skeletal phenotype landmarks 20230421 000009903.fcsv'\n",
    "\n",
    "# Initialize an empty dictionary to hold the nested dictionaries\n",
    "data_dict = {}\n",
    "\n",
    "# Variable to hold the coordinate system\n",
    "coordinate_system = None\n",
    "\n",
    "# Open the file and read its content\n",
    "with open(fcv_file_path, 'r') as f:\n",
    "    reader = csv.reader(f)\n",
    "    \n",
    "    # Skip the header lines and extract the coordinate system\n",
    "    for line in reader:\n",
    "        if line[0].startswith('#'):\n",
    "            if 'CoordinateSystem' in line[0]:\n",
    "                coordinate_system = line[0].split('=')[1].strip()\n",
    "            continue\n",
    "        \n",
    "        # Extract the relevant columns and create nested dictionary\n",
    "        label = line[11]\n",
    "        data_dict[label] = {\n",
    "            # 'id': line[0],\n",
    "            'L': float(line[1]),\n",
    "            'P': float(line[2]),\n",
    "            'S': float(line[3]),\n",
    "            # 'coordinate_system': coordinate_system\n",
    "        }\n",
    "\n",
    "# Convert the nested dictionary to a list of dictionaries\n",
    "data_list = [{'label': label, **data} for label, data in data_dict.items()]\n",
    "\n",
    "# Create a DataFrame from the list of dictionaries\n",
    "df = pd.DataFrame(data_list)\n",
    "\n",
    "# Print the DataFrame\n",
    "print(df)\n"
   ]
  },
  {
   "cell_type": "code",
   "execution_count": 5,
   "metadata": {},
   "outputs": [
    {
     "data": {
      "text/plain": [
       "array([   0.        ,   18.24203768, -183.26961451])"
      ]
     },
     "execution_count": 5,
     "metadata": {},
     "output_type": "execute_result"
    }
   ],
   "source": [
    "df[df['label']=='C3'].iloc[:,1:].values[0]"
   ]
  },
  {
   "cell_type": "code",
   "execution_count": 6,
   "metadata": {},
   "outputs": [
    {
     "name": "stdout",
     "output_type": "stream",
     "text": [
      "(333, 394, 56)\n"
     ]
    }
   ],
   "source": [
    "world_coordinates = df[df['label']=='C3'].iloc[:,1:].values[0]\n",
    "voxel_coordinates = image_vol.TransformPhysicalPointToIndex(world_coordinates)\n",
    "print(voxel_coordinates)"
   ]
  },
  {
   "cell_type": "code",
   "execution_count": 7,
   "metadata": {},
   "outputs": [
    {
     "name": "stdout",
     "output_type": "stream",
     "text": [
      "(333, 203, 47)\n"
     ]
    }
   ],
   "source": [
    "world_coordinates = df[df['label']=='RGn'].iloc[:,1:].values[0]\n",
    "voxel_coordinates = image_vol.TransformPhysicalPointToIndex(world_coordinates)\n",
    "print(voxel_coordinates)"
   ]
  },
  {
   "cell_type": "code",
   "execution_count": 8,
   "metadata": {},
   "outputs": [
    {
     "name": "stdout",
     "output_type": "stream",
     "text": [
      "(333, 324, 11)\n"
     ]
    }
   ],
   "source": [
    "world_coordinates = df[df['label']=='Hyoid'].iloc[:,1:].values[0]\n",
    "voxel_coordinates = image_vol.TransformPhysicalPointToIndex(world_coordinates)\n",
    "print(voxel_coordinates)"
   ]
  },
  {
   "cell_type": "code",
   "execution_count": null,
   "metadata": {},
   "outputs": [],
   "source": [
    "import os\n",
    "\n",
    "# Define the directory containing the files\n",
    "folder_path = \"../assets/trial/CT_Facial_20230421_154425\"\n",
    "\n",
    "# List all files in the directory\n",
    "files_in_folder = os.listdir(folder_path)\n",
    "\n",
    "# Loop through all files\n",
    "for file_name in files_in_folder:\n",
    "    # Check if the file has a .dcm extension\n",
    "    if not file_name.endswith('.dcm'):\n",
    "        # If not, remove the file\n",
    "        file_path = os.path.join(folder_path, file_name)\n",
    "        os.remove(file_path)\n",
    "        print(f\"Removed file: {file_path}\")\n",
    "\n",
    "print(\"Cleanup complete.\")\n"
   ]
  }
 ],
 "metadata": {
  "kernelspec": {
   "display_name": "det3d",
   "language": "python",
   "name": "python3"
  },
  "language_info": {
   "codemirror_mode": {
    "name": "ipython",
    "version": 3
   },
   "file_extension": ".py",
   "mimetype": "text/x-python",
   "name": "python",
   "nbconvert_exporter": "python",
   "pygments_lexer": "ipython3",
   "version": "3.8.8"
  }
 },
 "nbformat": 4,
 "nbformat_minor": 2
}
