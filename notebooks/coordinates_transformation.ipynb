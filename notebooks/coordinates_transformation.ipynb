{
 "cells": [
  {
   "cell_type": "code",
   "execution_count": 3,
   "metadata": {},
   "outputs": [
    {
     "data": {
      "text/plain": [
       "'/home/sankar/VSCODE_PROJECTS/Medical-Detection3d-Toolkit/notebooks'"
      ]
     },
     "execution_count": 3,
     "metadata": {},
     "output_type": "execute_result"
    }
   ],
   "source": [
    "import os\n",
    "\n",
    "os.getcwd()"
   ]
  },
  {
   "cell_type": "code",
   "execution_count": 4,
   "metadata": {},
   "outputs": [],
   "source": [
    "import SimpleITK as sitk\n",
    "\n",
    "image_path = '../assets/case_001.nii.gz'\n",
    "image = sitk.ReadImage(image_path)"
   ]
  },
  {
   "cell_type": "code",
   "execution_count": 5,
   "metadata": {},
   "outputs": [
    {
     "name": "stdout",
     "output_type": "stream",
     "text": [
      "(0.0, 0.0, 0.0) (1.0, 0.0, 0.0, 0.0, 1.0, 0.0, 0.0, 0.0, 1.0) (1.5, 1.5, 1.5)\n"
     ]
    }
   ],
   "source": [
    "origin = image.GetOrigin()\n",
    "orientation = image.GetDirection()\n",
    "spacing = image.GetSpacing()\n",
    "print(origin, orientation, spacing)"
   ]
  },
  {
   "cell_type": "code",
   "execution_count": 6,
   "metadata": {},
   "outputs": [
    {
     "name": "stdout",
     "output_type": "stream",
     "text": [
      "(157.691, 341.191, -15.3) (-1.0, 0.0, 0.0, 0.0, -1.0, 0.0, 0.0, 0.0, 1.0) (1.0, 1.0, 1.0)\n"
     ]
    }
   ],
   "source": [
    "# image.SetOrigin((157.6910, 341.1910, -15.300))\n",
    "# image.SetDirection((-1., 0, 0, 0, -1., 0, 0, 0, 1.))\n",
    "# image.SetSpacing((1., 1., 1.))\n",
    "\n",
    "# print(image.GetOrigin(), image.GetDirection(), image.GetSpacing())"
   ]
  },
  {
   "cell_type": "code",
   "execution_count": 7,
   "metadata": {},
   "outputs": [
    {
     "name": "stdout",
     "output_type": "stream",
     "text": [
      "(299, 105, 179)\n"
     ]
    }
   ],
   "source": [
    "world_coordinates = (-141.057,236.523,163.852)\n",
    "voxel_coordinates = image.TransformPhysicalPointToIndex(world_coordinates)\n",
    "print(voxel_coordinates)"
   ]
  },
  {
   "cell_type": "code",
   "execution_count": 7,
   "metadata": {},
   "outputs": [
    {
     "name": "stdout",
     "output_type": "stream",
     "text": [
      "(134, 125, 81)\n"
     ]
    }
   ],
   "source": [
    "world_coordinates = (201,187.5,121.5) #train.py data\n",
    "voxel_coordinates = image.TransformPhysicalPointToIndex(world_coordinates)\n",
    "print(voxel_coordinates)"
   ]
  },
  {
   "cell_type": "code",
   "execution_count": null,
   "metadata": {},
   "outputs": [],
   "source": []
  }
 ],
 "metadata": {
  "kernelspec": {
   "display_name": "det3d",
   "language": "python",
   "name": "python3"
  },
  "language_info": {
   "codemirror_mode": {
    "name": "ipython",
    "version": 3
   },
   "file_extension": ".py",
   "mimetype": "text/x-python",
   "name": "python",
   "nbconvert_exporter": "python",
   "pygments_lexer": "ipython3",
   "version": "3.8.8"
  }
 },
 "nbformat": 4,
 "nbformat_minor": 2
}
